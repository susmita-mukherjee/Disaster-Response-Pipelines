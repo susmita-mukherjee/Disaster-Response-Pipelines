{
 "cells": [
  {
   "cell_type": "markdown",
   "metadata": {},
   "source": [
    "# ML Pipeline Preparation\n",
    "Follow the instructions below to help you create your ML pipeline.\n",
    "### 1. Import libraries and load data from database.\n",
    "- Import Python libraries\n",
    "- Load dataset from database with [`read_sql_table`](https://pandas.pydata.org/pandas-docs/stable/generated/pandas.read_sql_table.html)\n",
    "- Define feature and target variables X and Y"
   ]
  },
  {
   "cell_type": "code",
   "execution_count": 3,
   "metadata": {},
   "outputs": [
    {
     "name": "stdout",
     "output_type": "stream",
     "text": [
      "[nltk_data] Downloading package punkt to /root/nltk_data...\n",
      "[nltk_data]   Unzipping tokenizers/punkt.zip.\n",
      "[nltk_data] Downloading package stopwords to /root/nltk_data...\n",
      "[nltk_data]   Unzipping corpora/stopwords.zip.\n"
     ]
    }
   ],
   "source": [
    "#Importing libraries\n",
    "from sqlalchemy import create_engine\n",
    "import pandas as pd\n",
    "import numpy as np\n",
    "from sklearn.pipeline import Pipeline\n",
    "from sklearn.feature_extraction.text import CountVectorizer, TfidfTransformer\n",
    "from sklearn.model_selection import train_test_split, GridSearchCV\n",
    "from sklearn.ensemble import RandomForestClassifier\n",
    "from sklearn.multioutput import MultiOutputClassifier\n",
    "from sklearn.metrics import accuracy_score, precision_score, recall_score, f1_score, make_scorer\n",
    "from sklearn.model_selection import GridSearchCV\n",
    "from sklearn.svm import SVC\n",
    "import warnings\n",
    "import re\n",
    "import pickle\n",
    "import nltk\n",
    "from nltk.corpus import stopwords\n",
    "from nltk.tokenize import word_tokenize\n",
    "from nltk.stem.porter import PorterStemmer\n",
    "nltk.download('punkt')\n",
    "nltk.download('stopwords')\n",
    "warnings.simplefilter('ignore')"
   ]
  },
  {
   "cell_type": "code",
   "execution_count": 4,
   "metadata": {},
   "outputs": [
    {
     "data": {
      "text/html": [
       "<div>\n",
       "<style scoped>\n",
       "    .dataframe tbody tr th:only-of-type {\n",
       "        vertical-align: middle;\n",
       "    }\n",
       "\n",
       "    .dataframe tbody tr th {\n",
       "        vertical-align: top;\n",
       "    }\n",
       "\n",
       "    .dataframe thead th {\n",
       "        text-align: right;\n",
       "    }\n",
       "</style>\n",
       "<table border=\"1\" class=\"dataframe\">\n",
       "  <thead>\n",
       "    <tr style=\"text-align: right;\">\n",
       "      <th></th>\n",
       "      <th>related</th>\n",
       "      <th>request</th>\n",
       "      <th>offer</th>\n",
       "      <th>aid_related</th>\n",
       "      <th>medical_help</th>\n",
       "      <th>medical_products</th>\n",
       "      <th>search_and_rescue</th>\n",
       "      <th>security</th>\n",
       "      <th>military</th>\n",
       "      <th>child_alone</th>\n",
       "      <th>...</th>\n",
       "      <th>aid_centers</th>\n",
       "      <th>other_infrastructure</th>\n",
       "      <th>weather_related</th>\n",
       "      <th>floods</th>\n",
       "      <th>storm</th>\n",
       "      <th>fire</th>\n",
       "      <th>earthquake</th>\n",
       "      <th>cold</th>\n",
       "      <th>other_weather</th>\n",
       "      <th>direct_report</th>\n",
       "    </tr>\n",
       "  </thead>\n",
       "  <tbody>\n",
       "    <tr>\n",
       "      <th>0</th>\n",
       "      <td>1</td>\n",
       "      <td>0</td>\n",
       "      <td>0</td>\n",
       "      <td>0</td>\n",
       "      <td>0</td>\n",
       "      <td>0</td>\n",
       "      <td>0</td>\n",
       "      <td>0</td>\n",
       "      <td>0</td>\n",
       "      <td>0</td>\n",
       "      <td>...</td>\n",
       "      <td>0</td>\n",
       "      <td>0</td>\n",
       "      <td>0</td>\n",
       "      <td>0</td>\n",
       "      <td>0</td>\n",
       "      <td>0</td>\n",
       "      <td>0</td>\n",
       "      <td>0</td>\n",
       "      <td>0</td>\n",
       "      <td>0</td>\n",
       "    </tr>\n",
       "    <tr>\n",
       "      <th>1</th>\n",
       "      <td>1</td>\n",
       "      <td>0</td>\n",
       "      <td>0</td>\n",
       "      <td>1</td>\n",
       "      <td>0</td>\n",
       "      <td>0</td>\n",
       "      <td>0</td>\n",
       "      <td>0</td>\n",
       "      <td>0</td>\n",
       "      <td>0</td>\n",
       "      <td>...</td>\n",
       "      <td>0</td>\n",
       "      <td>0</td>\n",
       "      <td>1</td>\n",
       "      <td>0</td>\n",
       "      <td>1</td>\n",
       "      <td>0</td>\n",
       "      <td>0</td>\n",
       "      <td>0</td>\n",
       "      <td>0</td>\n",
       "      <td>0</td>\n",
       "    </tr>\n",
       "    <tr>\n",
       "      <th>2</th>\n",
       "      <td>1</td>\n",
       "      <td>0</td>\n",
       "      <td>0</td>\n",
       "      <td>0</td>\n",
       "      <td>0</td>\n",
       "      <td>0</td>\n",
       "      <td>0</td>\n",
       "      <td>0</td>\n",
       "      <td>0</td>\n",
       "      <td>0</td>\n",
       "      <td>...</td>\n",
       "      <td>0</td>\n",
       "      <td>0</td>\n",
       "      <td>0</td>\n",
       "      <td>0</td>\n",
       "      <td>0</td>\n",
       "      <td>0</td>\n",
       "      <td>0</td>\n",
       "      <td>0</td>\n",
       "      <td>0</td>\n",
       "      <td>0</td>\n",
       "    </tr>\n",
       "    <tr>\n",
       "      <th>3</th>\n",
       "      <td>1</td>\n",
       "      <td>1</td>\n",
       "      <td>0</td>\n",
       "      <td>1</td>\n",
       "      <td>0</td>\n",
       "      <td>1</td>\n",
       "      <td>0</td>\n",
       "      <td>0</td>\n",
       "      <td>0</td>\n",
       "      <td>0</td>\n",
       "      <td>...</td>\n",
       "      <td>0</td>\n",
       "      <td>0</td>\n",
       "      <td>0</td>\n",
       "      <td>0</td>\n",
       "      <td>0</td>\n",
       "      <td>0</td>\n",
       "      <td>0</td>\n",
       "      <td>0</td>\n",
       "      <td>0</td>\n",
       "      <td>0</td>\n",
       "    </tr>\n",
       "    <tr>\n",
       "      <th>4</th>\n",
       "      <td>1</td>\n",
       "      <td>0</td>\n",
       "      <td>0</td>\n",
       "      <td>0</td>\n",
       "      <td>0</td>\n",
       "      <td>0</td>\n",
       "      <td>0</td>\n",
       "      <td>0</td>\n",
       "      <td>0</td>\n",
       "      <td>0</td>\n",
       "      <td>...</td>\n",
       "      <td>0</td>\n",
       "      <td>0</td>\n",
       "      <td>0</td>\n",
       "      <td>0</td>\n",
       "      <td>0</td>\n",
       "      <td>0</td>\n",
       "      <td>0</td>\n",
       "      <td>0</td>\n",
       "      <td>0</td>\n",
       "      <td>0</td>\n",
       "    </tr>\n",
       "  </tbody>\n",
       "</table>\n",
       "<p>5 rows × 36 columns</p>\n",
       "</div>"
      ],
      "text/plain": [
       "   related  request  offer  aid_related  medical_help  medical_products  \\\n",
       "0        1        0      0            0             0                 0   \n",
       "1        1        0      0            1             0                 0   \n",
       "2        1        0      0            0             0                 0   \n",
       "3        1        1      0            1             0                 1   \n",
       "4        1        0      0            0             0                 0   \n",
       "\n",
       "   search_and_rescue  security  military  child_alone      ...        \\\n",
       "0                  0         0         0            0      ...         \n",
       "1                  0         0         0            0      ...         \n",
       "2                  0         0         0            0      ...         \n",
       "3                  0         0         0            0      ...         \n",
       "4                  0         0         0            0      ...         \n",
       "\n",
       "   aid_centers  other_infrastructure  weather_related  floods  storm  fire  \\\n",
       "0            0                     0                0       0      0     0   \n",
       "1            0                     0                1       0      1     0   \n",
       "2            0                     0                0       0      0     0   \n",
       "3            0                     0                0       0      0     0   \n",
       "4            0                     0                0       0      0     0   \n",
       "\n",
       "   earthquake  cold  other_weather  direct_report  \n",
       "0           0     0              0              0  \n",
       "1           0     0              0              0  \n",
       "2           0     0              0              0  \n",
       "3           0     0              0              0  \n",
       "4           0     0              0              0  \n",
       "\n",
       "[5 rows x 36 columns]"
      ]
     },
     "execution_count": 4,
     "metadata": {},
     "output_type": "execute_result"
    }
   ],
   "source": [
    "#Loading data from database\n",
    "engine = create_engine('sqlite:///Messages.db')\n",
    "df = pd.read_sql_table(\"Messages\",engine)\n",
    "X = df['message']\n",
    "Y = df.drop(['id', 'message', 'original', 'genre'], axis = 1)\n",
    "Y.head()"
   ]
  },
  {
   "cell_type": "code",
   "execution_count": 5,
   "metadata": {},
   "outputs": [],
   "source": [
    "X.to_csv(\"x.csv\")"
   ]
  },
  {
   "cell_type": "code",
   "execution_count": 4,
   "metadata": {},
   "outputs": [
    {
     "data": {
      "text/plain": [
       "0    Weather update - a cold front from Cuba that c...\n",
       "1              Is the Hurricane over or is it not over\n",
       "2                      Looking for someone but no name\n",
       "3    UN reports Leogane 80-90 destroyed. Only Hospi...\n",
       "4    says: west side of Haiti, rest of the country ...\n",
       "Name: message, dtype: object"
      ]
     },
     "execution_count": 4,
     "metadata": {},
     "output_type": "execute_result"
    }
   ],
   "source": [
    "X.head()"
   ]
  },
  {
   "cell_type": "markdown",
   "metadata": {},
   "source": [
    "### 2. Write a tokenization function to process your text data"
   ]
  },
  {
   "cell_type": "code",
   "execution_count": 5,
   "metadata": {},
   "outputs": [],
   "source": [
    "def tokenize(text):\n",
    "    \"\"\"\n",
    "    inputs:\n",
    "    messages\n",
    "       \n",
    "    Returns:\n",
    "    messages split into multiple words\n",
    "    \"\"\"\n",
    "    #Converting everything into lower case\n",
    "    text = re.sub(r\"[^a-zA-Z0-9]\", \" \", text.lower())\n",
    "    \n",
    "    #Tokenizing the words\n",
    "    token = word_tokenize(text)\n",
    "    \n",
    "    #Normalizing the word tokens and removing stop words\n",
    "    normlizer = PorterStemmer()\n",
    "    stop_words = stopwords.words(\"english\")\n",
    "    \n",
    "    normlized_messages = [normlizer.stem(word) for word in token if word not in stop_words]\n",
    "    #print(normlized_messages)\n",
    "    return normlized_messages"
   ]
  },
  {
   "cell_type": "markdown",
   "metadata": {},
   "source": [
    "### 3. Build a machine learning pipeline\n",
    "This machine pipeline should take in the `message` column as input and output classification results on the other 36 categories in the dataset. You may find the [MultiOutputClassifier](http://scikit-learn.org/stable/modules/generated/sklearn.multioutput.MultiOutputClassifier.html) helpful for predicting multiple target variables."
   ]
  },
  {
   "cell_type": "code",
   "execution_count": 6,
   "metadata": {},
   "outputs": [],
   "source": [
    "pipeline_1 = Pipeline([\n",
    "    ('vect', CountVectorizer(tokenizer = tokenize)),\n",
    "    ('tfidf', TfidfTransformer()),\n",
    "    ('clf', MultiOutputClassifier(RandomForestClassifier()))\n",
    "])"
   ]
  },
  {
   "cell_type": "markdown",
   "metadata": {},
   "source": [
    "### 4. Train pipeline\n",
    "- Split data into train and test sets\n",
    "- Train pipeline"
   ]
  },
  {
   "cell_type": "code",
   "execution_count": 7,
   "metadata": {},
   "outputs": [
    {
     "data": {
      "text/plain": [
       "Pipeline(memory=None,\n",
       "     steps=[('vect', CountVectorizer(analyzer='word', binary=False, decode_error='strict',\n",
       "        dtype=<class 'numpy.int64'>, encoding='utf-8', input='content',\n",
       "        lowercase=True, max_df=1.0, max_features=None, min_df=1,\n",
       "        ngram_range=(1, 1), preprocessor=None, stop_words=None,\n",
       "        strip...oob_score=False, random_state=None, verbose=0,\n",
       "            warm_start=False),\n",
       "           n_jobs=1))])"
      ]
     },
     "execution_count": 7,
     "metadata": {},
     "output_type": "execute_result"
    }
   ],
   "source": [
    "X_train, X_test, Y_train, Y_test = train_test_split(X, Y, random_state = 23)\n",
    "\n",
    "np.random.seed(39)\n",
    "pipeline_1.fit(X_train, Y_train)"
   ]
  },
  {
   "cell_type": "markdown",
   "metadata": {},
   "source": [
    "### 5. Test your model\n",
    "Report the f1 score, precision and recall for each output category of the dataset. You can do this by iterating through the columns and calling sklearn's `classification_report` on each."
   ]
  },
  {
   "cell_type": "code",
   "execution_count": 8,
   "metadata": {},
   "outputs": [],
   "source": [
    "def evaluation_metrics(ArrayActual, ArrayPredicted, col_names):\n",
    "    \"\"\"Evalute the metrics/KPIs of the Machine Learning(ML) pipeline model\n",
    "    \n",
    "    inputs:\n",
    "    ArrayActual: array. Array containing the real labels.\n",
    "    ArrayPredicted: array. Array containing predicted labels.\n",
    "    col_names: list of strings. List containing names for each of the ArrayPredicted fields.\n",
    "       \n",
    "    Returns:\n",
    "    data_metrics: Contains accuracy, precision, recall \n",
    "    and f1 score for a given set of ArrayActual and ArrayPredicted labels.\n",
    "    \"\"\"\n",
    "    metrics = []\n",
    "    \n",
    "    # Evaluate metrics for each set of labels\n",
    "    for i in range(len(col_names)):\n",
    "        accuracy = accuracy_score(ArrayActual[:, i], ArrayPredicted[:, i])\n",
    "        precision = precision_score(ArrayActual[:, i], ArrayPredicted[:, i], average='micro')\n",
    "        recall = recall_score(ArrayActual[:, i], ArrayPredicted[:, i], average='micro')\n",
    "        f1 = f1_score(ArrayActual[:, i], ArrayPredicted[:, i], average='micro')\n",
    "        \n",
    "        metrics.append([accuracy, precision, recall, f1])\n",
    "    \n",
    "    # store metrics\n",
    "    metrics = np.array(metrics)\n",
    "    data_metrics = pd.DataFrame(data = metrics, index = col_names, columns = ['Accuracy', 'Precision', 'Recall', 'F1'])\n",
    "      \n",
    "    return data_metrics   "
   ]
  },
  {
   "cell_type": "code",
   "execution_count": 9,
   "metadata": {},
   "outputs": [
    {
     "name": "stdout",
     "output_type": "stream",
     "text": [
      "                        Accuracy  Precision    Recall        F1\n",
      "related                 0.989981   0.989981  0.989981  0.989981\n",
      "request                 0.986827   0.986827  0.986827  0.986827\n",
      "offer                   0.998779   0.998779  0.998779  0.998779\n",
      "aid_related             0.986064   0.986064  0.986064  0.986064\n",
      "medical_help            0.987336   0.987336  0.987336  0.987336\n",
      "medical_products        0.991150   0.991150  0.991150  0.991150\n",
      "search_and_rescue       0.994507   0.994507  0.994507  0.994507\n",
      "security                0.994812   0.994812  0.994812  0.994812\n",
      "military                0.995575   0.995575  0.995575  0.995575\n",
      "child_alone             1.000000   1.000000  1.000000  1.000000\n",
      "water                   0.995016   0.995016  0.995016  0.995016\n",
      "food                    0.995016   0.995016  0.995016  0.995016\n",
      "shelter                 0.992218   0.992218  0.992218  0.992218\n",
      "clothing                0.997559   0.997559  0.997559  0.997559\n",
      "money                   0.995982   0.995982  0.995982  0.995982\n",
      "missing_people          0.997254   0.997254  0.997254  0.997254\n",
      "refugees                0.994609   0.994609  0.994609  0.994609\n",
      "death                   0.994507   0.994507  0.994507  0.994507\n",
      "other_aid               0.979046   0.979046  0.979046  0.979046\n",
      "infrastructure_related  0.985759   0.985759  0.985759  0.985759\n",
      "transport               0.991761   0.991761  0.991761  0.991761\n",
      "buildings               0.992473   0.992473  0.992473  0.992473\n",
      "electricity             0.996236   0.996236  0.996236  0.996236\n",
      "tools                   0.998474   0.998474  0.998474  0.998474\n",
      "hospitals               0.997050   0.997050  0.997050  0.997050\n",
      "shops                   0.998779   0.998779  0.998779  0.998779\n",
      "aid_centers             0.996847   0.996847  0.996847  0.996847\n",
      "other_infrastructure    0.989218   0.989218  0.989218  0.989218\n",
      "weather_related         0.989726   0.989726  0.989726  0.989726\n",
      "floods                  0.991506   0.991506  0.991506  0.991506\n",
      "storm                   0.993846   0.993846  0.993846  0.993846\n",
      "fire                    0.997457   0.997457  0.997457  0.997457\n",
      "earthquake              0.995626   0.995626  0.995626  0.995626\n",
      "cold                    0.997050   0.997050  0.997050  0.997050\n",
      "other_weather           0.989014   0.989014  0.989014  0.989014\n",
      "direct_report           0.981385   0.981385  0.981385  0.981385\n"
     ]
    }
   ],
   "source": [
    "# Calculate evaluation metrics for training set\n",
    "Y_train_pred = pipeline_1.predict(X_train)\n",
    "col_names = list(Y.columns.values)\n",
    "\n",
    "print(evaluation_metrics(np.array(Y_train), Y_train_pred, col_names))"
   ]
  },
  {
   "cell_type": "code",
   "execution_count": 10,
   "metadata": {},
   "outputs": [
    {
     "name": "stdout",
     "output_type": "stream",
     "text": [
      "                        Accuracy  Precision    Recall        F1\n",
      "related                 0.806530   0.806530  0.806530  0.806530\n",
      "request                 0.879768   0.879768  0.879768  0.879768\n",
      "offer                   0.996186   0.996186  0.996186  0.996186\n",
      "aid_related             0.754654   0.754654  0.754654  0.754654\n",
      "medical_help            0.924016   0.924016  0.924016  0.924016\n",
      "medical_products        0.951327   0.951327  0.951327  0.951327\n",
      "search_and_rescue       0.971315   0.971315  0.971315  0.971315\n",
      "security                0.981233   0.981233  0.981233  0.981233\n",
      "military                0.969942   0.969942  0.969942  0.969942\n",
      "child_alone             1.000000   1.000000  1.000000  1.000000\n",
      "water                   0.955905   0.955905  0.955905  0.955905\n",
      "food                    0.925694   0.925694  0.925694  0.925694\n",
      "shelter                 0.926305   0.926305  0.926305  0.926305\n",
      "clothing                0.986421   0.986421  0.986421  0.986421\n",
      "money                   0.976350   0.976350  0.976350  0.976350\n",
      "missing_people          0.989319   0.989319  0.989319  0.989319\n",
      "refugees                0.964297   0.964297  0.964297  0.964297\n",
      "death                   0.958193   0.958193  0.958193  0.958193\n",
      "other_aid               0.864663   0.864663  0.864663  0.864663\n",
      "infrastructure_related  0.932713   0.932713  0.932713  0.932713\n",
      "transport               0.956210   0.956210  0.956210  0.956210\n",
      "buildings               0.950870   0.950870  0.950870  0.950870\n",
      "electricity             0.981691   0.981691  0.981691  0.981691\n",
      "tools                   0.993439   0.993439  0.993439  0.993439\n",
      "hospitals               0.987489   0.987489  0.987489  0.987489\n",
      "shops                   0.995423   0.995423  0.995423  0.995423\n",
      "aid_centers             0.986115   0.986115  0.986115  0.986115\n",
      "other_infrastructure    0.956668   0.956668  0.956668  0.956668\n",
      "weather_related         0.869240   0.869240  0.869240  0.869240\n",
      "floods                  0.953464   0.953464  0.953464  0.953464\n",
      "storm                   0.934086   0.934086  0.934086  0.934086\n",
      "fire                    0.990540   0.990540  0.990540  0.990540\n",
      "earthquake              0.964297   0.964297  0.964297  0.964297\n",
      "cold                    0.978792   0.978792  0.978792  0.978792\n",
      "other_weather           0.945529   0.945529  0.945529  0.945529\n",
      "direct_report           0.841929   0.841929  0.841929  0.841929\n"
     ]
    }
   ],
   "source": [
    "# Calculate evaluation metrics for test set\n",
    "Y_test_pred = pipeline_1.predict(X_test)\n",
    "\n",
    "evaluation_metrics_test = evaluation_metrics(np.array(Y_test), Y_test_pred, col_names)\n",
    "print(evaluation_metrics_test)"
   ]
  },
  {
   "cell_type": "code",
   "execution_count": 11,
   "metadata": {},
   "outputs": [
    {
     "data": {
      "text/plain": [
       "related                   0.773650\n",
       "request                   0.170659\n",
       "offer                     0.004501\n",
       "aid_related               0.414251\n",
       "medical_help              0.079493\n",
       "medical_products          0.050084\n",
       "search_and_rescue         0.027617\n",
       "security                  0.017966\n",
       "military                  0.032804\n",
       "child_alone               0.000000\n",
       "water                     0.063778\n",
       "food                      0.111497\n",
       "shelter                   0.088267\n",
       "clothing                  0.015449\n",
       "money                     0.023039\n",
       "missing_people            0.011367\n",
       "refugees                  0.033377\n",
       "death                     0.045545\n",
       "other_aid                 0.131446\n",
       "infrastructure_related    0.065037\n",
       "transport                 0.045812\n",
       "buildings                 0.050847\n",
       "electricity               0.020293\n",
       "tools                     0.006065\n",
       "hospitals                 0.010795\n",
       "shops                     0.004577\n",
       "aid_centers               0.011787\n",
       "other_infrastructure      0.043904\n",
       "weather_related           0.278341\n",
       "floods                    0.082202\n",
       "storm                     0.093187\n",
       "fire                      0.010757\n",
       "earthquake                0.093645\n",
       "cold                      0.020217\n",
       "other_weather             0.052487\n",
       "direct_report             0.193584\n",
       "dtype: float64"
      ]
     },
     "execution_count": 11,
     "metadata": {},
     "output_type": "execute_result"
    }
   ],
   "source": [
    "# Calculation the proportion of each column that have label == 1\n",
    "Y.sum()/len(Y)"
   ]
  },
  {
   "cell_type": "markdown",
   "metadata": {},
   "source": [
    "### 6. Improve your model\n",
    "Use grid search to find better parameters. "
   ]
  },
  {
   "cell_type": "code",
   "execution_count": 12,
   "metadata": {},
   "outputs": [],
   "source": [
    "#Defining performance metric for use in grid search scoring object\n",
    "def performance_metric(Y_Actual, Y_Predicted):\n",
    "    \"\"\"Median F1 score for all classifiers\n",
    "    \n",
    "    inputs:\n",
    "    Y_Actual: array. Array containing ArrayActual labels.\n",
    "    Y_Predicted: array. Array containing ArrayPredicted labels.\n",
    "        \n",
    "    Routputs:\n",
    "    Median F1 score for all  classifiers\n",
    "    \"\"\"\n",
    "    f1_list = []\n",
    "    for i in range(np.shape(Y_Predicted)[1]):\n",
    "        f1 = f1_score(np.array(Y_Actual)[:, i], Y_Predicted[:, i], average = 'micro')\n",
    "        f1_list.append(f1)\n",
    "        \n",
    "    score = np.median(f1_list)\n",
    "    return score"
   ]
  },
  {
   "cell_type": "code",
   "execution_count": 13,
   "metadata": {},
   "outputs": [],
   "source": [
    "##delete\n",
    "scorer = make_scorer(performance_metric)"
   ]
  },
  {
   "cell_type": "code",
   "execution_count": 14,
   "metadata": {},
   "outputs": [
    {
     "name": "stdout",
     "output_type": "stream",
     "text": [
      "Fitting 3 folds for each of 1 candidates, totalling 3 fits\n",
      "[CV] clf__estimator__min_samples_split=10, clf__estimator__n_estimators=50, tfidf__use_idf=True, vect__min_df=10 \n",
      "[CV]  clf__estimator__min_samples_split=10, clf__estimator__n_estimators=50, tfidf__use_idf=True, vect__min_df=10, score=0.9598718339945072, total= 1.9min\n",
      "[CV] clf__estimator__min_samples_split=10, clf__estimator__n_estimators=50, tfidf__use_idf=True, vect__min_df=10 \n"
     ]
    },
    {
     "name": "stderr",
     "output_type": "stream",
     "text": [
      "[Parallel(n_jobs=1)]: Done   1 out of   1 | elapsed:  2.3min remaining:    0.0s\n"
     ]
    },
    {
     "name": "stdout",
     "output_type": "stream",
     "text": [
      "[CV]  clf__estimator__min_samples_split=10, clf__estimator__n_estimators=50, tfidf__use_idf=True, vect__min_df=10, score=0.9653646628013427, total= 1.9min\n",
      "[CV] clf__estimator__min_samples_split=10, clf__estimator__n_estimators=50, tfidf__use_idf=True, vect__min_df=10 \n"
     ]
    },
    {
     "name": "stderr",
     "output_type": "stream",
     "text": [
      "[Parallel(n_jobs=1)]: Done   2 out of   2 | elapsed:  4.6min remaining:    0.0s\n"
     ]
    },
    {
     "name": "stdout",
     "output_type": "stream",
     "text": [
      "[CV]  clf__estimator__min_samples_split=10, clf__estimator__n_estimators=50, tfidf__use_idf=True, vect__min_df=10, score=0.9604821483063778, total= 1.9min\n"
     ]
    },
    {
     "name": "stderr",
     "output_type": "stream",
     "text": [
      "[Parallel(n_jobs=1)]: Done   3 out of   3 | elapsed:  6.9min remaining:    0.0s\n",
      "[Parallel(n_jobs=1)]: Done   3 out of   3 | elapsed:  6.9min finished\n"
     ]
    }
   ],
   "source": [
    "#Performing grid search method\n",
    "\n",
    "parameters = {'vect__min_df': [10],\n",
    "              'tfidf__use_idf':[True],\n",
    "              'clf__estimator__n_estimators':[50], \n",
    "              'clf__estimator__min_samples_split':[10]}\n",
    "\n",
    "scorer = make_scorer(performance_metric)\n",
    "cv = GridSearchCV(pipeline_1, param_grid = parameters, scoring = scorer, verbose = 10)\n",
    "\n",
    "#Finding best parameters\n",
    "np.random.seed(74)\n",
    "model_1 = cv.fit(X_train, Y_train)"
   ]
  },
  {
   "cell_type": "code",
   "execution_count": 15,
   "metadata": {},
   "outputs": [
    {
     "data": {
      "text/plain": [
       "{'mean_fit_time': array([ 101.43601855]),\n",
       " 'std_fit_time': array([ 0.75391672]),\n",
       " 'mean_score_time': array([ 12.41139007]),\n",
       " 'std_score_time': array([ 0.14640807]),\n",
       " 'param_clf__estimator__min_samples_split': masked_array(data = [10],\n",
       "              mask = [False],\n",
       "        fill_value = ?),\n",
       " 'param_clf__estimator__n_estimators': masked_array(data = [50],\n",
       "              mask = [False],\n",
       "        fill_value = ?),\n",
       " 'param_tfidf__use_idf': masked_array(data = [True],\n",
       "              mask = [False],\n",
       "        fill_value = ?),\n",
       " 'param_vect__min_df': masked_array(data = [10],\n",
       "              mask = [False],\n",
       "        fill_value = ?),\n",
       " 'params': [{'clf__estimator__min_samples_split': 10,\n",
       "   'clf__estimator__n_estimators': 50,\n",
       "   'tfidf__use_idf': True,\n",
       "   'vect__min_df': 10}],\n",
       " 'split0_test_score': array([ 0.95987183]),\n",
       " 'split1_test_score': array([ 0.96536466]),\n",
       " 'split2_test_score': array([ 0.96048215]),\n",
       " 'mean_test_score': array([ 0.96190622]),\n",
       " 'std_test_score': array([ 0.00245815]),\n",
       " 'rank_test_score': array([1], dtype=int32),\n",
       " 'split0_train_score': array([ 0.98928135]),\n",
       " 'split1_train_score': array([ 0.98840403]),\n",
       " 'split2_train_score': array([ 0.98836588]),\n",
       " 'mean_train_score': array([ 0.98868376]),\n",
       " 'std_train_score': array([ 0.00042285])}"
      ]
     },
     "execution_count": 15,
     "metadata": {},
     "output_type": "execute_result"
    }
   ],
   "source": [
    "#Checking grid search results\n",
    "model_1.cv_results_"
   ]
  },
  {
   "cell_type": "code",
   "execution_count": 16,
   "metadata": {},
   "outputs": [
    {
     "data": {
      "text/plain": [
       "0.96190621503407592"
      ]
     },
     "execution_count": 16,
     "metadata": {},
     "output_type": "execute_result"
    }
   ],
   "source": [
    "#Evaluating top mean score\n",
    "np.max(model_1.cv_results_['mean_test_score'])"
   ]
  },
  {
   "cell_type": "code",
   "execution_count": 17,
   "metadata": {},
   "outputs": [
    {
     "data": {
      "text/plain": [
       "{'clf__estimator__min_samples_split': 10,\n",
       " 'clf__estimator__n_estimators': 50,\n",
       " 'tfidf__use_idf': True,\n",
       " 'vect__min_df': 10}"
      ]
     },
     "execution_count": 17,
     "metadata": {},
     "output_type": "execute_result"
    }
   ],
   "source": [
    "#Displaying parameters for top mean score\n",
    "model_1.best_params_"
   ]
  },
  {
   "cell_type": "markdown",
   "metadata": {},
   "source": [
    "{'clf__estimator__min_samples_split': 10,\n",
    " 'clf__estimator__n_estimators': 25,\n",
    " 'tfidf__use_idf': True,\n",
    " 'vect__min_df': 5}"
   ]
  },
  {
   "cell_type": "markdown",
   "metadata": {},
   "source": [
    "### 7. Test your model\n",
    "Show the accuracy, precision, and recall of the tuned model.  \n",
    "\n",
    "Since this project focuses on code quality, process, and  pipelines, there is no minimum performance metric needed to pass. However, make sure to fine tune your models for accuracy, precision and recall to make your project stand out - especially for your portfolio!"
   ]
  },
  {
   "cell_type": "code",
   "execution_count": 18,
   "metadata": {},
   "outputs": [
    {
     "name": "stdout",
     "output_type": "stream",
     "text": [
      "                        Accuracy  Precision    Recall        F1\n",
      "related                 0.819805   0.819805  0.819805  0.819805\n",
      "request                 0.891669   0.891669  0.891669  0.891669\n",
      "offer                   0.996186   0.996186  0.996186  0.996186\n",
      "aid_related             0.782270   0.782270  0.782270  0.782270\n",
      "medical_help            0.927983   0.927983  0.927983  0.927983\n",
      "medical_products        0.953158   0.953158  0.953158  0.953158\n",
      "search_and_rescue       0.972536   0.972536  0.972536  0.972536\n",
      "security                0.981385   0.981385  0.981385  0.981385\n",
      "military                0.971315   0.971315  0.971315  0.971315\n",
      "child_alone             1.000000   1.000000  1.000000  1.000000\n",
      "water                   0.964907   0.964907  0.964907  0.964907\n",
      "food                    0.953464   0.953464  0.953464  0.953464\n",
      "shelter                 0.944614   0.944614  0.944614  0.944614\n",
      "clothing                0.987031   0.987031  0.987031  0.987031\n",
      "money                   0.975893   0.975893  0.975893  0.975893\n",
      "missing_people          0.989319   0.989319  0.989319  0.989319\n",
      "refugees                0.965517   0.965517  0.965517  0.965517\n",
      "death                   0.964144   0.964144  0.964144  0.964144\n",
      "other_aid               0.866341   0.866341  0.866341  0.866341\n",
      "infrastructure_related  0.933171   0.933171  0.933171  0.933171\n",
      "transport               0.957125   0.957125  0.957125  0.957125\n",
      "buildings               0.952548   0.952548  0.952548  0.952548\n",
      "electricity             0.981843   0.981843  0.981843  0.981843\n",
      "tools                   0.993439   0.993439  0.993439  0.993439\n",
      "hospitals               0.987641   0.987641  0.987641  0.987641\n",
      "shops                   0.995423   0.995423  0.995423  0.995423\n",
      "aid_centers             0.986115   0.986115  0.986115  0.986115\n",
      "other_infrastructure    0.956820   0.956820  0.956820  0.956820\n",
      "weather_related         0.892890   0.892890  0.892890  0.892890\n",
      "floods                  0.956973   0.956973  0.956973  0.956973\n",
      "storm                   0.948276   0.948276  0.948276  0.948276\n",
      "fire                    0.990998   0.990998  0.990998  0.990998\n",
      "earthquake              0.974977   0.974977  0.974977  0.974977\n",
      "cold                    0.981691   0.981691  0.981691  0.981691\n",
      "other_weather           0.947360   0.947360  0.947360  0.947360\n",
      "direct_report           0.857644   0.857644  0.857644  0.857644\n"
     ]
    }
   ],
   "source": [
    "#Evaluating metrics for the test dataset\n",
    "tuned_pred_test = model_1.predict(X_test)\n",
    "\n",
    "evaluation_metrics_test_tuned = evaluation_metrics(np.array(Y_test), tuned_pred_test, col_names)\n",
    "\n",
    "print(evaluation_metrics_test_tuned)"
   ]
  },
  {
   "cell_type": "code",
   "execution_count": 19,
   "metadata": {},
   "outputs": [
    {
     "data": {
      "text/html": [
       "<div>\n",
       "<style scoped>\n",
       "    .dataframe tbody tr th:only-of-type {\n",
       "        vertical-align: middle;\n",
       "    }\n",
       "\n",
       "    .dataframe tbody tr th {\n",
       "        vertical-align: top;\n",
       "    }\n",
       "\n",
       "    .dataframe thead th {\n",
       "        text-align: right;\n",
       "    }\n",
       "</style>\n",
       "<table border=\"1\" class=\"dataframe\">\n",
       "  <thead>\n",
       "    <tr style=\"text-align: right;\">\n",
       "      <th></th>\n",
       "      <th>Accuracy</th>\n",
       "      <th>Precision</th>\n",
       "      <th>Recall</th>\n",
       "      <th>F1</th>\n",
       "    </tr>\n",
       "  </thead>\n",
       "  <tbody>\n",
       "    <tr>\n",
       "      <th>count</th>\n",
       "      <td>36.000000</td>\n",
       "      <td>36.000000</td>\n",
       "      <td>36.000000</td>\n",
       "      <td>36.000000</td>\n",
       "    </tr>\n",
       "    <tr>\n",
       "      <th>mean</th>\n",
       "      <td>0.944461</td>\n",
       "      <td>0.944461</td>\n",
       "      <td>0.944461</td>\n",
       "      <td>0.944461</td>\n",
       "    </tr>\n",
       "    <tr>\n",
       "      <th>std</th>\n",
       "      <td>0.056373</td>\n",
       "      <td>0.056373</td>\n",
       "      <td>0.056373</td>\n",
       "      <td>0.056373</td>\n",
       "    </tr>\n",
       "    <tr>\n",
       "      <th>min</th>\n",
       "      <td>0.754654</td>\n",
       "      <td>0.754654</td>\n",
       "      <td>0.754654</td>\n",
       "      <td>0.754654</td>\n",
       "    </tr>\n",
       "    <tr>\n",
       "      <th>25%</th>\n",
       "      <td>0.931111</td>\n",
       "      <td>0.931111</td>\n",
       "      <td>0.931111</td>\n",
       "      <td>0.931111</td>\n",
       "    </tr>\n",
       "    <tr>\n",
       "      <th>50%</th>\n",
       "      <td>0.957431</td>\n",
       "      <td>0.957431</td>\n",
       "      <td>0.957431</td>\n",
       "      <td>0.957431</td>\n",
       "    </tr>\n",
       "    <tr>\n",
       "      <th>75%</th>\n",
       "      <td>0.982797</td>\n",
       "      <td>0.982797</td>\n",
       "      <td>0.982797</td>\n",
       "      <td>0.982797</td>\n",
       "    </tr>\n",
       "    <tr>\n",
       "      <th>max</th>\n",
       "      <td>1.000000</td>\n",
       "      <td>1.000000</td>\n",
       "      <td>1.000000</td>\n",
       "      <td>1.000000</td>\n",
       "    </tr>\n",
       "  </tbody>\n",
       "</table>\n",
       "</div>"
      ],
      "text/plain": [
       "        Accuracy  Precision     Recall         F1\n",
       "count  36.000000  36.000000  36.000000  36.000000\n",
       "mean    0.944461   0.944461   0.944461   0.944461\n",
       "std     0.056373   0.056373   0.056373   0.056373\n",
       "min     0.754654   0.754654   0.754654   0.754654\n",
       "25%     0.931111   0.931111   0.931111   0.931111\n",
       "50%     0.957431   0.957431   0.957431   0.957431\n",
       "75%     0.982797   0.982797   0.982797   0.982797\n",
       "max     1.000000   1.000000   1.000000   1.000000"
      ]
     },
     "execution_count": 19,
     "metadata": {},
     "output_type": "execute_result"
    }
   ],
   "source": [
    "#Chceking summary of the 1st model\n",
    "evaluation_metrics_test.describe()"
   ]
  },
  {
   "cell_type": "code",
   "execution_count": 20,
   "metadata": {},
   "outputs": [
    {
     "data": {
      "text/html": [
       "<div>\n",
       "<style scoped>\n",
       "    .dataframe tbody tr th:only-of-type {\n",
       "        vertical-align: middle;\n",
       "    }\n",
       "\n",
       "    .dataframe tbody tr th {\n",
       "        vertical-align: top;\n",
       "    }\n",
       "\n",
       "    .dataframe thead th {\n",
       "        text-align: right;\n",
       "    }\n",
       "</style>\n",
       "<table border=\"1\" class=\"dataframe\">\n",
       "  <thead>\n",
       "    <tr style=\"text-align: right;\">\n",
       "      <th></th>\n",
       "      <th>Accuracy</th>\n",
       "      <th>Precision</th>\n",
       "      <th>Recall</th>\n",
       "      <th>F1</th>\n",
       "    </tr>\n",
       "  </thead>\n",
       "  <tbody>\n",
       "    <tr>\n",
       "      <th>count</th>\n",
       "      <td>36.000000</td>\n",
       "      <td>36.000000</td>\n",
       "      <td>36.000000</td>\n",
       "      <td>36.000000</td>\n",
       "    </tr>\n",
       "    <tr>\n",
       "      <th>mean</th>\n",
       "      <td>0.950069</td>\n",
       "      <td>0.950069</td>\n",
       "      <td>0.950069</td>\n",
       "      <td>0.950069</td>\n",
       "    </tr>\n",
       "    <tr>\n",
       "      <th>std</th>\n",
       "      <td>0.050733</td>\n",
       "      <td>0.050733</td>\n",
       "      <td>0.050733</td>\n",
       "      <td>0.050733</td>\n",
       "    </tr>\n",
       "    <tr>\n",
       "      <th>min</th>\n",
       "      <td>0.782270</td>\n",
       "      <td>0.782270</td>\n",
       "      <td>0.782270</td>\n",
       "      <td>0.782270</td>\n",
       "    </tr>\n",
       "    <tr>\n",
       "      <th>25%</th>\n",
       "      <td>0.946674</td>\n",
       "      <td>0.946674</td>\n",
       "      <td>0.946674</td>\n",
       "      <td>0.946674</td>\n",
       "    </tr>\n",
       "    <tr>\n",
       "      <th>50%</th>\n",
       "      <td>0.964525</td>\n",
       "      <td>0.964525</td>\n",
       "      <td>0.964525</td>\n",
       "      <td>0.964525</td>\n",
       "    </tr>\n",
       "    <tr>\n",
       "      <th>75%</th>\n",
       "      <td>0.982911</td>\n",
       "      <td>0.982911</td>\n",
       "      <td>0.982911</td>\n",
       "      <td>0.982911</td>\n",
       "    </tr>\n",
       "    <tr>\n",
       "      <th>max</th>\n",
       "      <td>1.000000</td>\n",
       "      <td>1.000000</td>\n",
       "      <td>1.000000</td>\n",
       "      <td>1.000000</td>\n",
       "    </tr>\n",
       "  </tbody>\n",
       "</table>\n",
       "</div>"
      ],
      "text/plain": [
       "        Accuracy  Precision     Recall         F1\n",
       "count  36.000000  36.000000  36.000000  36.000000\n",
       "mean    0.950069   0.950069   0.950069   0.950069\n",
       "std     0.050733   0.050733   0.050733   0.050733\n",
       "min     0.782270   0.782270   0.782270   0.782270\n",
       "25%     0.946674   0.946674   0.946674   0.946674\n",
       "50%     0.964525   0.964525   0.964525   0.964525\n",
       "75%     0.982911   0.982911   0.982911   0.982911\n",
       "max     1.000000   1.000000   1.000000   1.000000"
      ]
     },
     "execution_count": 20,
     "metadata": {},
     "output_type": "execute_result"
    }
   ],
   "source": [
    "#Chceking summary of the tuned model\n",
    "evaluation_metrics_test_tuned.describe()"
   ]
  },
  {
   "cell_type": "markdown",
   "metadata": {},
   "source": [
    "### 8. Try improving your model further. Here are a few ideas:\n",
    "* try other machine learning algorithms\n",
    "* add other features besides the TF-IDF"
   ]
  },
  {
   "cell_type": "code",
   "execution_count": 21,
   "metadata": {},
   "outputs": [],
   "source": [
    "from sklearn.ensemble import GradientBoostingClassifier, RandomForestClassifier, AdaBoostClassifier\n",
    "from sklearn.pipeline import Pipeline, FeatureUnion\n",
    "from sklearn.multioutput import MultiOutputClassifier\n",
    "from sklearn.base import BaseEstimator,TransformerMixin\n",
    "from sklearn.feature_extraction.text import TfidfTransformer, CountVectorizer\n",
    "from sklearn.metrics import classification_report\n",
    "\n",
    "pipeline2 = Pipeline([\n",
    "        ('features', FeatureUnion([\n",
    "\n",
    "            ('text_pipeline', Pipeline([\n",
    "                ('count_vectorizer', CountVectorizer(tokenizer=tokenize)),\n",
    "                ('tfidf_transformer', TfidfTransformer())\n",
    "            ])),\n",
    "        ])),\n",
    "\n",
    "        ('classifier', MultiOutputClassifier(AdaBoostClassifier()))\n",
    "    ])\n",
    "\n",
    "np.random.seed(23)\n",
    "model_2 = pipeline2.fit(X_train, Y_train)"
   ]
  },
  {
   "cell_type": "code",
   "execution_count": 22,
   "metadata": {},
   "outputs": [
    {
     "name": "stdout",
     "output_type": "stream",
     "text": [
      "                        Accuracy  Precision    Recall        F1\n",
      "related                 0.768691   0.768691  0.768691  0.768691\n",
      "request                 0.882057   0.882057  0.882057  0.882057\n",
      "offer                   0.994965   0.994965  0.994965  0.994965\n",
      "aid_related             0.760146   0.760146  0.760146  0.760146\n",
      "medical_help            0.929966   0.929966  0.929966  0.929966\n",
      "medical_products        0.957431   0.957431  0.957431  0.957431\n",
      "search_and_rescue       0.973756   0.973756  0.973756  0.973756\n",
      "security                0.980012   0.980012  0.980012  0.980012\n",
      "military                0.969942   0.969942  0.969942  0.969942\n",
      "child_alone             1.000000   1.000000  1.000000  1.000000\n",
      "water                   0.962771   0.962771  0.962771  0.962771\n",
      "food                    0.947360   0.947360  0.947360  0.947360\n",
      "shelter                 0.945224   0.945224  0.945224  0.945224\n",
      "clothing                0.987489   0.987489  0.987489  0.987489\n",
      "money                   0.978181   0.978181  0.978181  0.978181\n",
      "missing_people          0.989930   0.989930  0.989930  0.989930\n",
      "refugees                0.967501   0.967501  0.967501  0.967501\n",
      "death                   0.965822   0.965822  0.965822  0.965822\n",
      "other_aid               0.863900   0.863900  0.863900  0.863900\n",
      "infrastructure_related  0.930882   0.930882  0.930882  0.930882\n",
      "transport               0.960787   0.960787  0.960787  0.960787\n",
      "buildings               0.959109   0.959109  0.959109  0.959109\n",
      "electricity             0.981843   0.981843  0.981843  0.981843\n",
      "tools                   0.992829   0.992829  0.992829  0.992829\n",
      "hospitals               0.986421   0.986421  0.986421  0.986421\n",
      "shops                   0.994355   0.994355  0.994355  0.994355\n",
      "aid_centers             0.983674   0.983674  0.983674  0.983674\n",
      "other_infrastructure    0.954684   0.954684  0.954684  0.954684\n",
      "weather_related         0.880073   0.880073  0.880073  0.880073\n",
      "floods                  0.958499   0.958499  0.958499  0.958499\n",
      "storm                   0.942173   0.942173  0.942173  0.942173\n",
      "fire                    0.991150   0.991150  0.991150  0.991150\n",
      "earthquake              0.970705   0.970705  0.970705  0.970705\n",
      "cold                    0.982911   0.982911  0.982911  0.982911\n",
      "other_weather           0.947666   0.947666  0.947666  0.947666\n",
      "direct_report           0.842691   0.842691  0.842691  0.842691\n"
     ]
    }
   ],
   "source": [
    "#Evaluating metrics for the test dataset\n",
    "tuned_pred_test_2 = model_2.predict(X_test)\n",
    "\n",
    "evaluation_metrics_test_tuned_2 = evaluation_metrics(np.array(Y_test), tuned_pred_test_2, col_names)\n",
    "\n",
    "print(evaluation_metrics_test_tuned_2)"
   ]
  },
  {
   "cell_type": "code",
   "execution_count": 23,
   "metadata": {},
   "outputs": [
    {
     "data": {
      "text/html": [
       "<div>\n",
       "<style scoped>\n",
       "    .dataframe tbody tr th:only-of-type {\n",
       "        vertical-align: middle;\n",
       "    }\n",
       "\n",
       "    .dataframe tbody tr th {\n",
       "        vertical-align: top;\n",
       "    }\n",
       "\n",
       "    .dataframe thead th {\n",
       "        text-align: right;\n",
       "    }\n",
       "</style>\n",
       "<table border=\"1\" class=\"dataframe\">\n",
       "  <thead>\n",
       "    <tr style=\"text-align: right;\">\n",
       "      <th></th>\n",
       "      <th>Accuracy</th>\n",
       "      <th>Precision</th>\n",
       "      <th>Recall</th>\n",
       "      <th>F1</th>\n",
       "    </tr>\n",
       "  </thead>\n",
       "  <tbody>\n",
       "    <tr>\n",
       "      <th>count</th>\n",
       "      <td>36.000000</td>\n",
       "      <td>36.000000</td>\n",
       "      <td>36.000000</td>\n",
       "      <td>36.000000</td>\n",
       "    </tr>\n",
       "    <tr>\n",
       "      <th>mean</th>\n",
       "      <td>0.946822</td>\n",
       "      <td>0.946822</td>\n",
       "      <td>0.946822</td>\n",
       "      <td>0.946822</td>\n",
       "    </tr>\n",
       "    <tr>\n",
       "      <th>std</th>\n",
       "      <td>0.058451</td>\n",
       "      <td>0.058451</td>\n",
       "      <td>0.058451</td>\n",
       "      <td>0.058451</td>\n",
       "    </tr>\n",
       "    <tr>\n",
       "      <th>min</th>\n",
       "      <td>0.760146</td>\n",
       "      <td>0.760146</td>\n",
       "      <td>0.760146</td>\n",
       "      <td>0.760146</td>\n",
       "    </tr>\n",
       "    <tr>\n",
       "      <th>25%</th>\n",
       "      <td>0.944461</td>\n",
       "      <td>0.944461</td>\n",
       "      <td>0.944461</td>\n",
       "      <td>0.944461</td>\n",
       "    </tr>\n",
       "    <tr>\n",
       "      <th>50%</th>\n",
       "      <td>0.964297</td>\n",
       "      <td>0.964297</td>\n",
       "      <td>0.964297</td>\n",
       "      <td>0.964297</td>\n",
       "    </tr>\n",
       "    <tr>\n",
       "      <th>75%</th>\n",
       "      <td>0.983102</td>\n",
       "      <td>0.983102</td>\n",
       "      <td>0.983102</td>\n",
       "      <td>0.983102</td>\n",
       "    </tr>\n",
       "    <tr>\n",
       "      <th>max</th>\n",
       "      <td>1.000000</td>\n",
       "      <td>1.000000</td>\n",
       "      <td>1.000000</td>\n",
       "      <td>1.000000</td>\n",
       "    </tr>\n",
       "  </tbody>\n",
       "</table>\n",
       "</div>"
      ],
      "text/plain": [
       "        Accuracy  Precision     Recall         F1\n",
       "count  36.000000  36.000000  36.000000  36.000000\n",
       "mean    0.946822   0.946822   0.946822   0.946822\n",
       "std     0.058451   0.058451   0.058451   0.058451\n",
       "min     0.760146   0.760146   0.760146   0.760146\n",
       "25%     0.944461   0.944461   0.944461   0.944461\n",
       "50%     0.964297   0.964297   0.964297   0.964297\n",
       "75%     0.983102   0.983102   0.983102   0.983102\n",
       "max     1.000000   1.000000   1.000000   1.000000"
      ]
     },
     "execution_count": 23,
     "metadata": {},
     "output_type": "execute_result"
    }
   ],
   "source": [
    "#Chceking summary of the 3rd model\n",
    "evaluation_metrics_test_tuned_2.describe()"
   ]
  },
  {
   "cell_type": "markdown",
   "metadata": {},
   "source": [
    "### 9. Export your model as a pickle file"
   ]
  },
  {
   "cell_type": "code",
   "execution_count": 24,
   "metadata": {},
   "outputs": [],
   "source": [
    "#Pickle best model\n",
    "pickle.dump(model_1, open('disaster_model.sav', 'wb'))"
   ]
  },
  {
   "cell_type": "markdown",
   "metadata": {},
   "source": [
    "### 10. Use this notebook to complete `train.py`\n",
    "Use the template file attached in the Resources folder to write a script that runs the steps above to create a database and export a model based on a new dataset specified by the user."
   ]
  },
  {
   "cell_type": "code",
   "execution_count": null,
   "metadata": {},
   "outputs": [],
   "source": []
  }
 ],
 "metadata": {
  "kernelspec": {
   "display_name": "Python 3",
   "language": "python",
   "name": "python3"
  },
  "language_info": {
   "codemirror_mode": {
    "name": "ipython",
    "version": 3
   },
   "file_extension": ".py",
   "mimetype": "text/x-python",
   "name": "python",
   "nbconvert_exporter": "python",
   "pygments_lexer": "ipython3",
   "version": "3.6.3"
  }
 },
 "nbformat": 4,
 "nbformat_minor": 2
}
